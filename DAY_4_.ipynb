{
  "nbformat": 4,
  "nbformat_minor": 0,
  "metadata": {
    "colab": {
      "name": "DAY-4 .ipynb",
      "provenance": []
    },
    "kernelspec": {
      "name": "python3",
      "display_name": "Python 3"
    }
  },
  "cells": [
    {
      "cell_type": "code",
      "metadata": {
        "id": "arJAxdIjWFYJ",
        "colab_type": "code",
        "colab": {}
      },
      "source": [
        "import numpy as np\n",
        "import matplotlib.pyplot as plt\n",
        "import random\n"
      ],
      "execution_count": 2,
      "outputs": []
    },
    {
      "cell_type": "code",
      "metadata": {
        "id": "ZHBRytRZYcr6",
        "colab_type": "code",
        "colab": {
          "base_uri": "https://localhost:8080/",
          "height": 312
        },
        "outputId": "70d0b259-42d7-451c-c5c5-e2788c9083b6"
      },
      "source": [
        "names = [\"A\", \"B\", \"C\", \"D\", \"E\", \"F\", \"G\"]\n",
        "salary = np.random.randint(20000,70000,7)\n",
        "color_name = ( 'r' , 'g' , 'b' , 'k' , 'c' , 'm' , '#0d6aff' )\n",
        "plt.bar(names, salary, color=color_name, width = 0.7)\n",
        "plt.xlabel(\"names of persons\")\n",
        "plt.ylabel(\"salaries of persons\")\n",
        "plt.title(\"name vs salaries\")\n",
        "plt.show"
      ],
      "execution_count": 4,
      "outputs": [
        {
          "output_type": "execute_result",
          "data": {
            "text/plain": [
              "<function matplotlib.pyplot.show>"
            ]
          },
          "metadata": {
            "tags": []
          },
          "execution_count": 4
        },
        {
          "output_type": "display_data",
          "data": {
            "image/png": "[encoded data removed]",
            "text/plain": [
              "<Figure size 432x288 with 1 Axes>"
            ]
          },
          "metadata": {
            "tags": [],
            "needs_background": "light"
          }
        }
      ]
    },
    {
      "cell_type": "code",
      "metadata": {
        "id": "UYSjm7tcbGZB",
        "colab_type": "code",
        "colab": {
          "base_uri": "https://localhost:8080/",
          "height": 312
        },
        "outputId": "4f2ac688-d424-4ae1-d8fe-4789edaaaf56"
      },
      "source": [
        "names = [\"A\", \"B\", \"C\", \"D\", \"E\", \"F\", \"G\"]\n",
        "salary = np.random.randint(20000,70000,7)\n",
        "color_name = ( 'r' , 'g' , 'b' , 'k' , 'c' , 'm' , '#0d6aff' )\n",
        "plt.barh(names, salary, color=color_name)\n",
        "plt.xlabel(\"names of persons\")\n",
        "plt.ylabel(\"salaries of persons\")\n",
        "plt.title(\"name vs salaries\")\n",
        "plt.show"
      ],
      "execution_count": 5,
      "outputs": [
        {
          "output_type": "execute_result",
          "data": {
            "text/plain": [
              "<function matplotlib.pyplot.show>"
            ]
          },
          "metadata": {
            "tags": []
          },
          "execution_count": 5
        },
        {
          "output_type": "display_data",
          "data": {
            "image/png": "[encoded data removed]",
            "text/plain": [
              "<Figure size 432x288 with 1 Axes>"
            ]
          },
          "metadata": {
            "tags": [],
            "needs_background": "light"
          }
        }
      ]
    },
    {
      "cell_type": "code",
      "metadata": {
        "id": "tRffRYPQbt7c",
        "colab_type": "code",
        "colab": {
          "base_uri": "https://localhost:8080/",
          "height": 282
        },
        "outputId": "25170e53-d878-477e-e6e7-0a3cc809bb8e"
      },
      "source": [
        "x = np.array([5, 10, 15, 20, 25])\n",
        "y = np.array([3, 6, 9, 12, 15])\n",
        "z = np.array([4, 8, 12, 16, 20])\n",
        "\n",
        "plt.bar(x, y, color = 'b', width = 2 , label = \"average\")\n",
        "plt.bar(x+2, z, color = 'c' , width = 2 , label = \"mean\")\n",
        "plt.legend()\n",
        "plt.show"
      ],
      "execution_count": 7,
      "outputs": [
        {
          "output_type": "execute_result",
          "data": {
            "text/plain": [
              "<function matplotlib.pyplot.show>"
            ]
          },
          "metadata": {
            "tags": []
          },
          "execution_count": 7
        },
        {
          "output_type": "display_data",
          "data": {
            "image/png": "[encoded data removed]",
            "text/plain": [
              "<Figure size 432x288 with 1 Axes>"
            ]
          },
          "metadata": {
            "tags": [],
            "needs_background": "light"
          }
        }
      ]
    },
    {
      "cell_type": "code",
      "metadata": {
        "id": "kMH9Dgc9ezEc",
        "colab_type": "code",
        "colab": {
          "base_uri": "https://localhost:8080/",
          "height": 50
        },
        "outputId": "5edca9e3-8972-4988-82f2-ef7667d52ea1"
      },
      "source": [
        "fruits = {\n",
        "    \"1\": \"yellow\",\n",
        "    \"2\": \"red\",\n",
        "    \"3\": \"pink\",\n",
        "    \"4\": \"brown\"\n",
        "}\n",
        "\n",
        "x= input(\"which number do u chose???\")\n",
        "output= \"\"\n",
        "for fruit in x:\n",
        "  output+=fruits.get(fruit, 'not found') + ' '\n",
        "\n",
        "print(f'{output}')\n",
        "\n"
      ],
      "execution_count": 14,
      "outputs": [
        {
          "output_type": "stream",
          "text": [
            "which number do u chose???123\n",
            "yellow red pink \n"
          ],
          "name": "stdout"
        }
      ]
    },
    {
      "cell_type": "code",
      "metadata": {
        "id": "aB75WkNIgd-K",
        "colab_type": "code",
        "colab": {
          "base_uri": "https://localhost:8080/",
          "height": 50
        },
        "outputId": "271c50af-7c16-4c39-aa9b-bc2990c638df"
      },
      "source": [
        "color_code = {\n",
        "    \"0\": \"black\",\n",
        "    \"1\": \"brown\",\n",
        "    \"2\": \"red\",\n",
        "    \"3\": \"orange\",\n",
        "    \"4\": \"yellow\",\n",
        "    \"5\": \"green\",\n",
        "    \"6\": \"blue\",\n",
        "    \"7\": \"violet\",\n",
        "    \"8\": \"grey\",\n",
        "    \"9\": \"white\"\n",
        "}\n",
        "\n",
        "x= input(\"what is the color code u see in the resistor???\")\n",
        "output= \"\"\n",
        "for code in x:\n",
        "  output+=color_code.get(code, 'not found') + '  '\n",
        "\n",
        "print(f'{output}df')"
      ],
      "execution_count": 61,
      "outputs": [
        {
          "output_type": "stream",
          "text": [
            "what is the color code u see in the resistor???10\n",
            "brown  black  \n"
          ],
          "name": "stdout"
        }
      ]
    },
    {
      "cell_type": "code",
      "metadata": {
        "id": "RdB5h2VfjRG9",
        "colab_type": "code",
        "colab": {
          "base_uri": "https://localhost:8080/",
          "height": 34
        },
        "outputId": "cb675bc8-7844-409e-b2f6-76327ecf4044"
      },
      "source": [
        "import pandas as pd\n",
        "kulfi = [\"chocolate\" , \"butterscotch\" , \"pista\" , \"kesar badam\" , \"malai\"]\n",
        "kulfi"
      ],
      "execution_count": 17,
      "outputs": [
        {
          "output_type": "execute_result",
          "data": {
            "text/plain": [
              "['chocolate', 'butterscotch', 'pista', 'kesar badam', 'malai']"
            ]
          },
          "metadata": {
            "tags": []
          },
          "execution_count": 17
        }
      ]
    },
    {
      "cell_type": "code",
      "metadata": {
        "id": "s0SuXJfSl87i",
        "colab_type": "code",
        "colab": {}
      },
      "source": [
        "new= pd.Series(kulfi)"
      ],
      "execution_count": 23,
      "outputs": []
    },
    {
      "cell_type": "code",
      "metadata": {
        "id": "J59MjmnQmQpn",
        "colab_type": "code",
        "colab": {
          "base_uri": "https://localhost:8080/",
          "height": 101
        },
        "outputId": "76c04229-9ce1-4e80-ebe8-5876ebd2b3c4"
      },
      "source": [
        "reg = [ True, False, True, False]\n",
        "pd.Series(reg)"
      ],
      "execution_count": 22,
      "outputs": [
        {
          "output_type": "execute_result",
          "data": {
            "text/plain": [
              "0     True\n",
              "1    False\n",
              "2     True\n",
              "3    False\n",
              "dtype: bool"
            ]
          },
          "metadata": {
            "tags": []
          },
          "execution_count": 22
        }
      ]
    },
    {
      "cell_type": "code",
      "metadata": {
        "id": "JVgfNu3lm_UF",
        "colab_type": "code",
        "colab": {
          "base_uri": "https://localhost:8080/",
          "height": 118
        },
        "outputId": "1aec5dff-bdf3-4314-814a-66e6660a6982"
      },
      "source": [
        "new"
      ],
      "execution_count": 24,
      "outputs": [
        {
          "output_type": "execute_result",
          "data": {
            "text/plain": [
              "0       chocolate\n",
              "1    butterscotch\n",
              "2           pista\n",
              "3     kesar badam\n",
              "4           malai\n",
              "dtype: object"
            ]
          },
          "metadata": {
            "tags": []
          },
          "execution_count": 24
        }
      ]
    },
    {
      "cell_type": "code",
      "metadata": {
        "id": "TSj2UTPZnpXc",
        "colab_type": "code",
        "colab": {
          "base_uri": "https://localhost:8080/",
          "height": 50
        },
        "outputId": "c3219c58-21d5-40c9-99fb-60b959290fed"
      },
      "source": [
        "new.values"
      ],
      "execution_count": 25,
      "outputs": [
        {
          "output_type": "execute_result",
          "data": {
            "text/plain": [
              "array(['chocolate', 'butterscotch', 'pista', 'kesar badam', 'malai'],\n",
              "      dtype=object)"
            ]
          },
          "metadata": {
            "tags": []
          },
          "execution_count": 25
        }
      ]
    },
    {
      "cell_type": "code",
      "metadata": {
        "id": "1JFBy5CBnrTv",
        "colab_type": "code",
        "colab": {
          "base_uri": "https://localhost:8080/",
          "height": 34
        },
        "outputId": "3fb4f1d3-ad1d-4404-eafc-c0aecd91686c"
      },
      "source": [
        "new.index"
      ],
      "execution_count": 26,
      "outputs": [
        {
          "output_type": "execute_result",
          "data": {
            "text/plain": [
              "RangeIndex(start=0, stop=5, step=1)"
            ]
          },
          "metadata": {
            "tags": []
          },
          "execution_count": 26
        }
      ]
    },
    {
      "cell_type": "code",
      "metadata": {
        "id": "AFWD4y9wn8KC",
        "colab_type": "code",
        "colab": {
          "base_uri": "https://localhost:8080/",
          "height": 34
        },
        "outputId": "113ccff8-3b7b-4ac0-a8b6-985ad6bca4e9"
      },
      "source": [
        "new.dtype"
      ],
      "execution_count": 27,
      "outputs": [
        {
          "output_type": "execute_result",
          "data": {
            "text/plain": [
              "dtype('O')"
            ]
          },
          "metadata": {
            "tags": []
          },
          "execution_count": 27
        }
      ]
    },
    {
      "cell_type": "code",
      "metadata": {
        "id": "hEflaa0fn-ij",
        "colab_type": "code",
        "colab": {}
      },
      "source": [
        "numbers = [2,4,6,8,10]"
      ],
      "execution_count": 28,
      "outputs": []
    },
    {
      "cell_type": "code",
      "metadata": {
        "id": "FrNznma-oHK2",
        "colab_type": "code",
        "colab": {
          "base_uri": "https://localhost:8080/",
          "height": 34
        },
        "outputId": "3e33b5d3-2877-4fbb-b474-a25a530419ad"
      },
      "source": [
        "numbers"
      ],
      "execution_count": 29,
      "outputs": [
        {
          "output_type": "execute_result",
          "data": {
            "text/plain": [
              "[2, 4, 6, 8, 10]"
            ]
          },
          "metadata": {
            "tags": []
          },
          "execution_count": 29
        }
      ]
    },
    {
      "cell_type": "code",
      "metadata": {
        "id": "IoUWhIC9oJsD",
        "colab_type": "code",
        "colab": {}
      },
      "source": [
        "num=pd.Series(numbers)"
      ],
      "execution_count": 32,
      "outputs": []
    },
    {
      "cell_type": "code",
      "metadata": {
        "id": "Ai91odPyoMyv",
        "colab_type": "code",
        "colab": {
          "base_uri": "https://localhost:8080/",
          "height": 34
        },
        "outputId": "8572b6bd-ea48-43c9-e98a-e193768b7551"
      },
      "source": [
        "num.sum()"
      ],
      "execution_count": 33,
      "outputs": [
        {
          "output_type": "execute_result",
          "data": {
            "text/plain": [
              "30"
            ]
          },
          "metadata": {
            "tags": []
          },
          "execution_count": 33
        }
      ]
    },
    {
      "cell_type": "code",
      "metadata": {
        "id": "VpqiKyZloae0",
        "colab_type": "code",
        "colab": {
          "base_uri": "https://localhost:8080/",
          "height": 34
        },
        "outputId": "2c32aa38-be71-4d25-822e-0e0a13e8eb49"
      },
      "source": [
        "num.product()"
      ],
      "execution_count": 34,
      "outputs": [
        {
          "output_type": "execute_result",
          "data": {
            "text/plain": [
              "3840"
            ]
          },
          "metadata": {
            "tags": []
          },
          "execution_count": 34
        }
      ]
    },
    {
      "cell_type": "code",
      "metadata": {
        "id": "Axbkxi5Kolv9",
        "colab_type": "code",
        "colab": {
          "base_uri": "https://localhost:8080/",
          "height": 34
        },
        "outputId": "7e4a3790-fcd6-47f1-bfc6-a6fa0579ef8b"
      },
      "source": [
        "num.mean()"
      ],
      "execution_count": 35,
      "outputs": [
        {
          "output_type": "execute_result",
          "data": {
            "text/plain": [
              "6.0"
            ]
          },
          "metadata": {
            "tags": []
          },
          "execution_count": 35
        }
      ]
    },
    {
      "cell_type": "code",
      "metadata": {
        "id": "-oh8rx5YonND",
        "colab_type": "code",
        "colab": {
          "base_uri": "https://localhost:8080/",
          "height": 118
        },
        "outputId": "a7b1857f-3341-4245-95cb-3d9e39149d7a"
      },
      "source": [
        "fruits = [\"apple\" , \"mango\" , \"banana\" , \"orange\" , \"grapes\"]\n",
        "weekdays = [\"monday\" , \"tuesday\" , \"wednesday\" , \"thursday\" , \"friday\"]\n",
        "\n",
        "pd.Series(weekdays,fruits)"
      ],
      "execution_count": 36,
      "outputs": [
        {
          "output_type": "execute_result",
          "data": {
            "text/plain": [
              "apple        monday\n",
              "mango       tuesday\n",
              "banana    wednesday\n",
              "orange     thursday\n",
              "grapes       friday\n",
              "dtype: object"
            ]
          },
          "metadata": {
            "tags": []
          },
          "execution_count": 36
        }
      ]
    },
    {
      "cell_type": "code",
      "metadata": {
        "id": "nRpxzzgqxt69",
        "colab_type": "code",
        "colab": {
          "base_uri": "https://localhost:8080/",
          "height": 121
        },
        "outputId": "b714a8e7-f67d-4101-edbc-e19f0018defa"
      },
      "source": [
        "from google.colab import drive\n",
        "drive.mount('/content/drive')"
      ],
      "execution_count": 48,
      "outputs": [
        {
          "output_type": "stream",
          "text": [
            "Go to this URL in a browser: https://accounts.google.com/o/oauth2/auth?client_id=947318989803-6bn6qk8qdgf4n4g3pfee6491hc0brc4i.apps.googleusercontent.com&redirect_uri=urn%3aietf%3awg%3aoauth%3a2.0%3aoob&response_type=code&scope=email%20https%3a%2f%2fwww.googleapis.com%2fauth%2fdocs.test%20https%3a%2f%2fwww.googleapis.com%2fauth%2fdrive%20https%3a%2f%2fwww.googleapis.com%2fauth%2fdrive.photos.readonly%20https%3a%2f%2fwww.googleapis.com%2fauth%2fpeopleapi.readonly\n",
            "\n",
            "Enter your authorization code:\n",
            "··········\n",
            "Mounted at /content/drive\n"
          ],
          "name": "stdout"
        }
      ]
    },
    {
      "cell_type": "code",
      "metadata": {
        "id": "5QxcBjf4psQv",
        "colab_type": "code",
        "colab": {
          "base_uri": "https://localhost:8080/",
          "height": 118
        },
        "outputId": "ee27f2bd-d922-4e81-a902-081fd80722c2"
      },
      "source": [
        "pd.Series(fruits,weekdays)"
      ],
      "execution_count": 37,
      "outputs": [
        {
          "output_type": "execute_result",
          "data": {
            "text/plain": [
              "monday        apple\n",
              "tuesday       mango\n",
              "wednesday    banana\n",
              "thursday     orange\n",
              "friday       grapes\n",
              "dtype: object"
            ]
          },
          "metadata": {
            "tags": []
          },
          "execution_count": 37
        }
      ]
    },
    {
      "cell_type": "code",
      "metadata": {
        "id": "dJjxU8BWqCcJ",
        "colab_type": "code",
        "colab": {}
      },
      "source": [
        "raw = {\n",
        "    'city':['assam','bangalore','chennai','dehradun'],\n",
        "    'name':['a','b','c','d'],\n",
        "    'rank':['1st','2nd','3rd','4th'],\n",
        "    'score':[45,54,65,56]\n",
        "}"
      ],
      "execution_count": 50,
      "outputs": []
    },
    {
      "cell_type": "code",
      "metadata": {
        "id": "0qTnlU8uuFvF",
        "colab_type": "code",
        "colab": {}
      },
      "source": [
        "df=pd.DataFrame(raw,columns=[\"city\",\"name\",\"rank\",\"score\"])"
      ],
      "execution_count": 52,
      "outputs": []
    },
    {
      "cell_type": "code",
      "metadata": {
        "id": "lFiu8-VV0Mn9",
        "colab_type": "code",
        "colab": {
          "base_uri": "https://localhost:8080/",
          "height": 166
        },
        "outputId": "28f091af-81df-4e12-d16e-c5ccd449b539"
      },
      "source": [
        "df"
      ],
      "execution_count": 53,
      "outputs": [
        {
          "output_type": "execute_result",
          "data": {
            "text/html": [
              "<div>\n",
              "<style scoped>\n",
              "    .dataframe tbody tr th:only-of-type {\n",
              "        vertical-align: middle;\n",
              "    }\n",
              "\n",
              "    .dataframe tbody tr th {\n",
              "        vertical-align: top;\n",
              "    }\n",
              "\n",
              "    .dataframe thead th {\n",
              "        text-align: right;\n",
              "    }\n",
              "</style>\n",
              "<table border=\"1\" class=\"dataframe\">\n",
              "  <thead>\n",
              "    <tr style=\"text-align: right;\">\n",
              "      <th></th>\n",
              "      <th>city</th>\n",
              "      <th>name</th>\n",
              "      <th>rank</th>\n",
              "      <th>score</th>\n",
              "    </tr>\n",
              "  </thead>\n",
              "  <tbody>\n",
              "    <tr>\n",
              "      <th>0</th>\n",
              "      <td>assam</td>\n",
              "      <td>a</td>\n",
              "      <td>1st</td>\n",
              "      <td>45</td>\n",
              "    </tr>\n",
              "    <tr>\n",
              "      <th>1</th>\n",
              "      <td>bangalore</td>\n",
              "      <td>b</td>\n",
              "      <td>2nd</td>\n",
              "      <td>54</td>\n",
              "    </tr>\n",
              "    <tr>\n",
              "      <th>2</th>\n",
              "      <td>chennai</td>\n",
              "      <td>c</td>\n",
              "      <td>3rd</td>\n",
              "      <td>65</td>\n",
              "    </tr>\n",
              "    <tr>\n",
              "      <th>3</th>\n",
              "      <td>dehradun</td>\n",
              "      <td>d</td>\n",
              "      <td>4th</td>\n",
              "      <td>56</td>\n",
              "    </tr>\n",
              "  </tbody>\n",
              "</table>\n",
              "</div>"
            ],
            "text/plain": [
              "        city name rank  score\n",
              "0      assam    a  1st     45\n",
              "1  bangalore    b  2nd     54\n",
              "2    chennai    c  3rd     65\n",
              "3   dehradun    d  4th     56"
            ]
          },
          "metadata": {
            "tags": []
          },
          "execution_count": 53
        }
      ]
    },
    {
      "cell_type": "code",
      "metadata": {
        "id": "9Ua4hhzC0Ziy",
        "colab_type": "code",
        "colab": {
          "base_uri": "https://localhost:8080/",
          "height": 101
        },
        "outputId": "98c2a3d2-7da3-4640-8305-4ab873a0e892"
      },
      "source": [
        "df.info"
      ],
      "execution_count": 54,
      "outputs": [
        {
          "output_type": "execute_result",
          "data": {
            "text/plain": [
              "<bound method DataFrame.info of         city name rank  score\n",
              "0      assam    a  1st     45\n",
              "1  bangalore    b  2nd     54\n",
              "2    chennai    c  3rd     65\n",
              "3   dehradun    d  4th     56>"
            ]
          },
          "metadata": {
            "tags": []
          },
          "execution_count": 54
        }
      ]
    },
    {
      "cell_type": "code",
      "metadata": {
        "id": "aOw1IsrK0b7J",
        "colab_type": "code",
        "colab": {}
      },
      "source": [
        "df.to_csv('/content/drive/My Drive/try1.csv')"
      ],
      "execution_count": 57,
      "outputs": []
    },
    {
      "cell_type": "code",
      "metadata": {
        "id": "CjwWgmw50rhA",
        "colab_type": "code",
        "colab": {}
      },
      "source": [
        "df.to_json('/content/drive/My Drive/try2.json')"
      ],
      "execution_count": 62,
      "outputs": []
    },
    {
      "cell_type": "code",
      "metadata": {
        "id": "ZQajjSGI3YBm",
        "colab_type": "code",
        "colab": {}
      },
      "source": [
        ""
      ],
      "execution_count": null,
      "outputs": []
    }
  ]
}