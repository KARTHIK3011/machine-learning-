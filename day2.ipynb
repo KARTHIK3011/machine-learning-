{
  "nbformat": 4,
  "nbformat_minor": 0,
  "metadata": {
    "colab": {
      "name": "day2.ipynb",
      "provenance": []
    },
    "kernelspec": {
      "name": "python3",
      "display_name": "Python 3"
    }
  },
  "cells": [
    {
      "cell_type": "code",
      "metadata": {
        "id": "K-WsUc6M1DDj",
        "colab_type": "code",
        "colab": {
          "base_uri": "https://localhost:8080/",
          "height": 118
        },
        "outputId": "07b7166b-0ca5-4722-b568-49f3e860d6dd"
      },
      "source": [
        "i = 1\n",
        "while i<=5:\n",
        "  print( '*'*i)\n",
        "  i+=1 #i=i+1\n",
        "print(\"done\")"
      ],
      "execution_count": 1,
      "outputs": [
        {
          "output_type": "stream",
          "text": [
            "*\n",
            "**\n",
            "***\n",
            "****\n",
            "*****\n",
            "done\n"
          ],
          "name": "stdout"
        }
      ]
    },
    {
      "cell_type": "code",
      "metadata": {
        "id": "DQZf3pgr1oQt",
        "colab_type": "code",
        "colab": {
          "base_uri": "https://localhost:8080/",
          "height": 101
        },
        "outputId": "e9a39db1-5477-474b-df23-9e3cde3b0d2b"
      },
      "source": [
        "for item in range (5,10):\n",
        "  print('*'*item)\n",
        "\n"
      ],
      "execution_count": 4,
      "outputs": [
        {
          "output_type": "stream",
          "text": [
            "*****\n",
            "******\n",
            "*******\n",
            "********\n",
            "*********\n"
          ],
          "name": "stdout"
        }
      ]
    },
    {
      "cell_type": "code",
      "metadata": {
        "id": "Noj09r2K2imK",
        "colab_type": "code",
        "colab": {
          "base_uri": "https://localhost:8080/",
          "height": 34
        },
        "outputId": "fd042ede-d84b-4d8c-83ea-a78d2df9b094"
      },
      "source": [
        "numbers=[1,2,3,4,5,6,7,8,9]\n",
        "numbers[0]"
      ],
      "execution_count": 5,
      "outputs": [
        {
          "output_type": "execute_result",
          "data": {
            "text/plain": [
              "1"
            ]
          },
          "metadata": {
            "tags": []
          },
          "execution_count": 5
        }
      ]
    },
    {
      "cell_type": "code",
      "metadata": {
        "id": "u8aO_sK431c1",
        "colab_type": "code",
        "colab": {
          "base_uri": "https://localhost:8080/",
          "height": 34
        },
        "outputId": "f3e5f48d-b861-4842-a938-901a3afbe18f"
      },
      "source": [
        "numbers.append(10)\n",
        "numbers"
      ],
      "execution_count": 7,
      "outputs": [
        {
          "output_type": "execute_result",
          "data": {
            "text/plain": [
              "[1, 2, 3, 4, 5, 6, 7, 8, 9, 10, 10]"
            ]
          },
          "metadata": {
            "tags": []
          },
          "execution_count": 7
        }
      ]
    },
    {
      "cell_type": "code",
      "metadata": {
        "id": "qViR1wIT34Z4",
        "colab_type": "code",
        "colab": {
          "base_uri": "https://localhost:8080/",
          "height": 34
        },
        "outputId": "cadd36a3-9428-4153-ca78-4949f83b87f3"
      },
      "source": [
        "numbers.insert(2,2.5)\n",
        "numbers"
      ],
      "execution_count": 8,
      "outputs": [
        {
          "output_type": "execute_result",
          "data": {
            "text/plain": [
              "[1, 2, 2.5, 3, 4, 5, 6, 7, 8, 9, 10, 10]"
            ]
          },
          "metadata": {
            "tags": []
          },
          "execution_count": 8
        }
      ]
    },
    {
      "cell_type": "code",
      "metadata": {
        "id": "wufgYR9G4C5N",
        "colab_type": "code",
        "colab": {
          "base_uri": "https://localhost:8080/",
          "height": 34
        },
        "outputId": "f168bcec-5f2e-4d9b-b8ad-8197a3ce385b"
      },
      "source": [
        "numbers.pop()\n",
        "numbers"
      ],
      "execution_count": 13,
      "outputs": [
        {
          "output_type": "execute_result",
          "data": {
            "text/plain": [
              "[1, 2, 2.5, 3, 4, 5, 6, 7, 8, 9, 10]"
            ]
          },
          "metadata": {
            "tags": []
          },
          "execution_count": 13
        }
      ]
    },
    {
      "cell_type": "code",
      "metadata": {
        "id": "2cAxEYVH4YpO",
        "colab_type": "code",
        "colab": {
          "base_uri": "https://localhost:8080/",
          "height": 34
        },
        "outputId": "4e1db313-d444-4d36-9181-4051371a05fc"
      },
      "source": [
        "numbers=[10,20,30,40,50]\n",
        "total=0\n",
        "for items in numbers:\n",
        "  total=total+items\n",
        "print(total)"
      ],
      "execution_count": 16,
      "outputs": [
        {
          "output_type": "stream",
          "text": [
            "150\n"
          ],
          "name": "stdout"
        }
      ]
    },
    {
      "cell_type": "code",
      "metadata": {
        "id": "YhuQl-5N6UKI",
        "colab_type": "code",
        "colab": {
          "base_uri": "https://localhost:8080/",
          "height": 101
        },
        "outputId": "e41a1855-07bb-40c4-f1c9-7dc9e317efa9"
      },
      "source": [
        "numbers=[10,20,30,40,50]\n",
        "total=0\n",
        "for items in numbers:\n",
        "  total=total+items\n",
        "  print(total)"
      ],
      "execution_count": 17,
      "outputs": [
        {
          "output_type": "stream",
          "text": [
            "10\n",
            "30\n",
            "60\n",
            "100\n",
            "150\n"
          ],
          "name": "stdout"
        }
      ]
    },
    {
      "cell_type": "code",
      "metadata": {
        "id": "1q4_yIIV6uaR",
        "colab_type": "code",
        "colab": {
          "base_uri": "https://localhost:8080/",
          "height": 34
        },
        "outputId": "3d582d19-5e15-467b-e2ec-927a41d89056"
      },
      "source": [
        "numbers=[10,20,30,30,20,10,40,50,40,60]\n",
        "unique=[]\n",
        "for items in numbers:\n",
        "  if items not in unique:\n",
        "    unique.append(items)\n",
        "print(unique)"
      ],
      "execution_count": 18,
      "outputs": [
        {
          "output_type": "stream",
          "text": [
            "[10, 20, 30, 40, 50, 60]\n"
          ],
          "name": "stdout"
        }
      ]
    },
    {
      "cell_type": "code",
      "metadata": {
        "id": "c6GfLl_o8FcV",
        "colab_type": "code",
        "colab": {
          "base_uri": "https://localhost:8080/",
          "height": 437
        },
        "outputId": "6a40f3bd-6847-4e59-d8e5-527e0db755b2"
      },
      "source": [
        "for x in range(5):\n",
        "  for y in range(5):\n",
        "    print(f'{x},{y}')"
      ],
      "execution_count": 21,
      "outputs": [
        {
          "output_type": "stream",
          "text": [
            "0,0\n",
            "0,1\n",
            "0,2\n",
            "0,3\n",
            "0,4\n",
            "1,0\n",
            "1,1\n",
            "1,2\n",
            "1,3\n",
            "1,4\n",
            "2,0\n",
            "2,1\n",
            "2,2\n",
            "2,3\n",
            "2,4\n",
            "3,0\n",
            "3,1\n",
            "3,2\n",
            "3,3\n",
            "3,4\n",
            "4,0\n",
            "4,1\n",
            "4,2\n",
            "4,3\n",
            "4,4\n"
          ],
          "name": "stdout"
        }
      ]
    },
    {
      "cell_type": "code",
      "metadata": {
        "id": "f1xfumn29MIc",
        "colab_type": "code",
        "colab": {
          "base_uri": "https://localhost:8080/",
          "height": 128
        },
        "outputId": "5b1005f4-ecef-4163-c1cb-a2685ecb9a51"
      },
      "source": [
        "for x in range(5):\n",
        "  for y in range(5):\n",
        "print(f'{x},{y}')"
      ],
      "execution_count": 22,
      "outputs": [
        {
          "output_type": "error",
          "ename": "IndentationError",
          "evalue": "ignored",
          "traceback": [
            "\u001b[0;36m  File \u001b[0;32m\"<ipython-input-22-3007d5934689>\"\u001b[0;36m, line \u001b[0;32m3\u001b[0m\n\u001b[0;31m    print(f'{x},{y}')\u001b[0m\n\u001b[0m                     ^\u001b[0m\n\u001b[0;31mIndentationError\u001b[0m\u001b[0;31m:\u001b[0m expected an indented block\n"
          ]
        }
      ]
    },
    {
      "cell_type": "code",
      "metadata": {
        "id": "eKOr5IhW9kfB",
        "colab_type": "code",
        "colab": {
          "base_uri": "https://localhost:8080/",
          "height": 67
        },
        "outputId": "77c7daf2-8093-4bc5-ec4b-3cba25b778ba"
      },
      "source": [
        "def greet_user():\n",
        "  print(\"hello\")\n",
        "  print(\"thanks for using me\")\n",
        "\n",
        "\n",
        "greet_user()\n",
        "print(\"good day\")"
      ],
      "execution_count": 25,
      "outputs": [
        {
          "output_type": "stream",
          "text": [
            "hello\n",
            "thanks for using me\n",
            "good day\n"
          ],
          "name": "stdout"
        }
      ]
    },
    {
      "cell_type": "code",
      "metadata": {
        "id": "qXKnouQBB9s8",
        "colab_type": "code",
        "colab": {
          "base_uri": "https://localhost:8080/",
          "height": 101
        },
        "outputId": "99d55a25-a3d3-4cb6-bcdf-51e23a87614f"
      },
      "source": [
        "def greet_user(name):\n",
        "  print(f\"hello {name}\")\n",
        "  print(\"have a good day\")\n",
        "\n",
        "\n",
        "greet_user(\"karthik\")\n",
        "greet_user(\"anusha\")\n",
        "print(\"thank you\")\n"
      ],
      "execution_count": 26,
      "outputs": [
        {
          "output_type": "stream",
          "text": [
            "hello karthik\n",
            "have a good day\n",
            "hello anusha\n",
            "have a good day\n",
            "thank you\n"
          ],
          "name": "stdout"
        }
      ]
    },
    {
      "cell_type": "code",
      "metadata": {
        "id": "3tF1lBpDDM6T",
        "colab_type": "code",
        "colab": {
          "base_uri": "https://localhost:8080/",
          "height": 50
        },
        "outputId": "3804078f-484e-4194-e65e-fec1b5db7ff0"
      },
      "source": [
        "def greet_user(first,last):\n",
        "  print(f\"hello {first},{last}\")\n",
        "  print(\"have a good day\")\n",
        "\n",
        "\n",
        "greet_user(\"anusha\",\"karthik\")\n"
      ],
      "execution_count": 30,
      "outputs": [
        {
          "output_type": "stream",
          "text": [
            "hello anusha,karthik\n",
            "have a good day\n"
          ],
          "name": "stdout"
        }
      ]
    },
    {
      "cell_type": "code",
      "metadata": {
        "id": "q1KDbzzFD24f",
        "colab_type": "code",
        "colab": {
          "base_uri": "https://localhost:8080/",
          "height": 35
        },
        "outputId": "ccb11fdb-ee92-4c75-ac99-f3f3591b79d9"
      },
      "source": [
        "names=[\"karthik\",\"anusha\",\"ammu\",\"bujji\"]\n",
        "names[2]"
      ],
      "execution_count": 31,
      "outputs": [
        {
          "output_type": "execute_result",
          "data": {
            "application/vnd.google.colaboratory.intrinsic": {
              "type": "string"
            },
            "text/plain": [
              "'ammu'"
            ]
          },
          "metadata": {
            "tags": []
          },
          "execution_count": 31
        }
      ]
    },
    {
      "cell_type": "code",
      "metadata": {
        "id": "1kuBHZ6PFFlX",
        "colab_type": "code",
        "colab": {
          "base_uri": "https://localhost:8080/",
          "height": 34
        },
        "outputId": "ca0f5de6-b9bc-47c1-e9eb-d4d428b9d042"
      },
      "source": [
        "names[0:3]"
      ],
      "execution_count": 32,
      "outputs": [
        {
          "output_type": "execute_result",
          "data": {
            "text/plain": [
              "['karthik', 'anusha', 'ammu']"
            ]
          },
          "metadata": {
            "tags": []
          },
          "execution_count": 32
        }
      ]
    },
    {
      "cell_type": "code",
      "metadata": {
        "id": "FHW_pFFwFZlM",
        "colab_type": "code",
        "colab": {
          "base_uri": "https://localhost:8080/",
          "height": 35
        },
        "outputId": "8df25a9d-6306-4aa5-9e53-7a22414df6cb"
      },
      "source": [
        "names[-1]"
      ],
      "execution_count": 33,
      "outputs": [
        {
          "output_type": "execute_result",
          "data": {
            "application/vnd.google.colaboratory.intrinsic": {
              "type": "string"
            },
            "text/plain": [
              "'bujji'"
            ]
          },
          "metadata": {
            "tags": []
          },
          "execution_count": 33
        }
      ]
    },
    {
      "cell_type": "code",
      "metadata": {
        "id": "UUs-XNNVFdL-",
        "colab_type": "code",
        "colab": {
          "base_uri": "https://localhost:8080/",
          "height": 34
        },
        "outputId": "661fe913-eb9d-4853-f590-cff58bbe57cd"
      },
      "source": [
        "names[:-1]"
      ],
      "execution_count": 34,
      "outputs": [
        {
          "output_type": "execute_result",
          "data": {
            "text/plain": [
              "['karthik', 'anusha', 'ammu']"
            ]
          },
          "metadata": {
            "tags": []
          },
          "execution_count": 34
        }
      ]
    },
    {
      "cell_type": "code",
      "metadata": {
        "id": "w8n6gtrmFltD",
        "colab_type": "code",
        "colab": {
          "base_uri": "https://localhost:8080/",
          "height": 34
        },
        "outputId": "f10b1bc2-b67b-4fb8-d879-3f80db770854"
      },
      "source": [
        "names[2]==[\"bangara\"]"
      ],
      "execution_count": 36,
      "outputs": [
        {
          "output_type": "execute_result",
          "data": {
            "text/plain": [
              "False"
            ]
          },
          "metadata": {
            "tags": []
          },
          "execution_count": 36
        }
      ]
    },
    {
      "cell_type": "code",
      "metadata": {
        "id": "rQVQbAsHGHYN",
        "colab_type": "code",
        "colab": {
          "base_uri": "https://localhost:8080/",
          "height": 185
        },
        "outputId": "1d6bb614-5896-4d9a-a5af-6d2c26b74f55"
      },
      "source": [
        "import time\n",
        "for item in range(0,10):\n",
        "  print('&'*item)\n",
        "  time.sleep(2)"
      ],
      "execution_count": 38,
      "outputs": [
        {
          "output_type": "stream",
          "text": [
            "\n",
            "&\n",
            "&&\n",
            "&&&\n",
            "&&&&\n",
            "&&&&&\n",
            "&&&&&&\n",
            "&&&&&&&\n",
            "&&&&&&&&\n",
            "&&&&&&&&&\n"
          ],
          "name": "stdout"
        }
      ]
    },
    {
      "cell_type": "code",
      "metadata": {
        "id": "oi_mX4tIJW_y",
        "colab_type": "code",
        "colab": {
          "base_uri": "https://localhost:8080/",
          "height": 67
        },
        "outputId": "9aca41d3-473a-420a-a524-ebea66b818a3"
      },
      "source": [
        "import random\n",
        "for i in range(3):\n",
        "  print(random.randint(0,20))"
      ],
      "execution_count": 39,
      "outputs": [
        {
          "output_type": "stream",
          "text": [
            "2\n",
            "18\n",
            "1\n"
          ],
          "name": "stdout"
        }
      ]
    },
    {
      "cell_type": "code",
      "metadata": {
        "id": "mkXGLLd9KOFd",
        "colab_type": "code",
        "colab": {
          "base_uri": "https://localhost:8080/",
          "height": 34
        },
        "outputId": "7e57af74-f3be-498c-a1b6-abd399622dbe"
      },
      "source": [
        "names=[\"andrews\",\"garuda\",\"rocky\",\"chotu\",\"saleem bhai\"]\n",
        "import random\n",
        "print(random.choice(names))"
      ],
      "execution_count": 43,
      "outputs": [
        {
          "output_type": "stream",
          "text": [
            "andrews\n"
          ],
          "name": "stdout"
        }
      ]
    },
    {
      "cell_type": "code",
      "metadata": {
        "id": "aITc_gvANNyS",
        "colab_type": "code",
        "colab": {
          "base_uri": "https://localhost:8080/",
          "height": 34
        },
        "outputId": "9115845f-6d6d-4a8c-b662-f5b3503bc86b"
      },
      "source": [
        "names=[\"andrews\",\"garuda\",\"rocky\",\"chotu\",\"saleem bhai\"]\n",
        "import random\n",
        "print(random.choice(names))"
      ],
      "execution_count": 44,
      "outputs": [
        {
          "output_type": "stream",
          "text": [
            "chotu\n"
          ],
          "name": "stdout"
        }
      ]
    },
    {
      "cell_type": "code",
      "metadata": {
        "id": "lN8KeZWuNwOj",
        "colab_type": "code",
        "colab": {
          "base_uri": "https://localhost:8080/",
          "height": 34
        },
        "outputId": "15687e57-c537-4aeb-c55d-47e3762b78e2"
      },
      "source": [
        "names=[\"andrews\",\"garuda\",\"rocky\",\"chotu\",\"suryavardhan\",\"adhira\",\"ramika sen\"]\n",
        "import random\n",
        "print(random.choice(names))"
      ],
      "execution_count": 45,
      "outputs": [
        {
          "output_type": "stream",
          "text": [
            "garuda\n"
          ],
          "name": "stdout"
        }
      ]
    },
    {
      "cell_type": "code",
      "metadata": {
        "id": "WEfujpBiODxe",
        "colab_type": "code",
        "colab": {
          "base_uri": "https://localhost:8080/",
          "height": 34
        },
        "outputId": "abdc0459-c9ba-4860-b61c-1ff71e143a42"
      },
      "source": [
        "names=[\"andrews\",\"garuda\",\"rocky\",\"chotu\",\"suryavardhan\",\"adhira\",\"ramika sen\"]\n",
        "import random\n",
        "print(random.choice(names))"
      ],
      "execution_count": 46,
      "outputs": [
        {
          "output_type": "stream",
          "text": [
            "adhira\n"
          ],
          "name": "stdout"
        }
      ]
    },
    {
      "cell_type": "code",
      "metadata": {
        "id": "UIIN-mAvOHDr",
        "colab_type": "code",
        "colab": {}
      },
      "source": [
        ""
      ],
      "execution_count": null,
      "outputs": []
    }
  ]
}