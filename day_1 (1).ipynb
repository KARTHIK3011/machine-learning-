{
  "nbformat": 4,
  "nbformat_minor": 0,
  "metadata": {
    "colab": {
      "name": "day_1.ipynb",
      "provenance": []
    },
    "kernelspec": {
      "name": "python3",
      "display_name": "Python 3"
    }
  },
  "cells": [
    {
      "cell_type": "code",
      "metadata": {
        "id": "L3lXj1uEHTL1",
        "colab_type": "code",
        "colab": {
          "base_uri": "https://localhost:8080/",
          "height": 67
        },
        "outputId": "57bb271e-f8be-4b97-84fc-a40c08cd6107"
      },
      "source": [
        "price=1000000\n",
        "has_high_income = False\n",
        "if has_high_income:\n",
        "  print(\"eligible for house loan with 10% down payment\")\n",
        "  dpmh=0.1*price\n",
        "  print(\"has to pay\")\n",
        "  print(dpmh)\n",
        "else:\n",
        "  print(\"eliible for house loan with 20% down payment\")\n",
        "  dpml=0.2*price\n",
        "  print(\"has to pay\")\n",
        "  print(dpml)\n"
      ],
      "execution_count": null,
      "outputs": [
        {
          "output_type": "stream",
          "text": [
            "eliible for house loan with 20% down payment\n",
            "has to pay\n",
            "200000.0\n"
          ],
          "name": "stdout"
        }
      ]
    },
    {
      "cell_type": "code",
      "metadata": {
        "id": "8ZaB1y-YI3uE",
        "colab_type": "code",
        "colab": {}
      },
      "source": [
        ""
      ],
      "execution_count": null,
      "outputs": []
    }
  ]
}